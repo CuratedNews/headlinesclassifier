{
 "cells": [
  {
   "cell_type": "code",
   "execution_count": null,
   "metadata": {
    "id": "L1WtoaOHVrVh"
   },
   "outputs": [],
   "source": [
    "#uncomment this line to install if not already installed\n",
    "#!pip install -q tflite-model-maker-nightly"
   ]
  },
  {
   "cell_type": "code",
   "execution_count": null,
   "metadata": {
    "colab": {
     "base_uri": "https://localhost:8080/"
    },
    "id": "82UY-vASNbP2",
    "outputId": "7e36fe18-0d21-4bf6-b2ae-45196fe2bf4d"
   },
   "outputs": [],
   "source": [
    "#import packages\n",
    "import pandas as pd\n",
    "from tflite_model_maker import model_spec\n",
    "from tflite_model_maker import text_classifier\n",
    "from tflite_model_maker.text_classifier import DataLoader"
   ]
  },
  {
   "cell_type": "code",
   "execution_count": null,
   "metadata": {
    "colab": {
     "base_uri": "https://localhost:8080/",
     "height": 206
    },
    "id": "57CcilYSG0zv",
    "outputId": "b0ddba2d-f6c7-4573-bf9d-5496f341726d"
   },
   "outputs": [],
   "source": [
    "#import dataset and check if dataset imported correctly\n",
    "df = pd.read_csv(\"headlinesvolatilitydata.csv\")\n",
    "df.head(25)"
   ]
  },
  {
   "cell_type": "code",
   "execution_count": null,
   "metadata": {
    "colab": {
     "base_uri": "https://localhost:8080/"
    },
    "id": "SbtTDYhOHZb6",
    "outputId": "b0dab1dd-96e3-44ad-8864-68f5adb92674"
   },
   "outputs": [],
   "source": [
    "#check dataset for total counts of positive, negative, and neutral sentiment labels\n",
    "df['titlesentimentoverall'].value_counts()"
   ]
  },
  {
   "cell_type": "code",
   "execution_count": null,
   "metadata": {
    "id": "Fzy8NDgO9tha"
   },
   "outputs": [],
   "source": [
    "#set model specifications; for more information see docs: https://www.tensorflow.org/text/guide/word_embeddings\n",
    "spec = model_spec.get('average_word_vec')"
   ]
  },
  {
   "cell_type": "code",
   "execution_count": null,
   "metadata": {
    "colab": {
     "base_uri": "https://localhost:8080/"
    },
    "id": "mChp25e093vy",
    "outputId": "4481f044-6205-443b-eaae-f378a97fcbb2"
   },
   "outputs": [],
   "source": [
    "#set parameters for model and iterate 10 times\n",
    "train_data = DataLoader.from_csv(\n",
    "      filename='headlinesvolatilitydata.csv',\n",
    "      text_column='title',\n",
    "      label_column='titlesentimentoverall',\n",
    "      model_spec=spec,\n",
    "      is_training=True)\n",
    "model = text_classifier.create(train_data, model_spec=spec, epochs=10)"
   ]
  },
  {
   "cell_type": "code",
   "execution_count": null,
   "metadata": {
    "colab": {
     "base_uri": "https://localhost:8080/"
    },
    "id": "di8jojEbY6zo",
    "outputId": "9c966dfc-39b3-4e48-a672-93b004753c51"
   },
   "outputs": [],
   "source": [
    "#check model summary\n",
    "model.summary()"
   ]
  }
 ],
 "metadata": {
  "colab": {
   "provenance": []
  },
  "kernelspec": {
   "display_name": "Python 3 (ipykernel)",
   "language": "python",
   "name": "python3"
  },
  "language_info": {
   "codemirror_mode": {
    "name": "ipython",
    "version": 3
   },
   "file_extension": ".py",
   "mimetype": "text/x-python",
   "name": "python",
   "nbconvert_exporter": "python",
   "pygments_lexer": "ipython3",
   "version": "3.10.6"
  }
 },
 "nbformat": 4,
 "nbformat_minor": 1
}
